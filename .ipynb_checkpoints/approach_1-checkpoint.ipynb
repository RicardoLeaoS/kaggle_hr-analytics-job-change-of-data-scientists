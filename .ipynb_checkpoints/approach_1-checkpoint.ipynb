{
 "cells": [
  {
   "cell_type": "raw",
   "metadata": {},
   "source": [
    "https://www.kaggle.com/arashnic/hr-analytics-job-change-of-data-scientists/tasks?taskId=3015"
   ]
  },
  {
   "cell_type": "code",
   "execution_count": 1,
   "metadata": {},
   "outputs": [],
   "source": [
    "import numpy as np\n",
    "import pandas as pd\n",
    "\n",
    "%matplotlib notebook\n",
    "import matplotlib.pyplot as plt\n",
    "\n",
    "import pandas_profiling"
   ]
  },
  {
   "cell_type": "code",
   "execution_count": 2,
   "metadata": {},
   "outputs": [],
   "source": [
    "train = pd.read_csv(\"data/aug_train.csv\")"
   ]
  },
  {
   "cell_type": "markdown",
   "metadata": {},
   "source": [
    "# DUMMY 1ST MODEL"
   ]
  },
  {
   "cell_type": "code",
   "execution_count": 155,
   "metadata": {},
   "outputs": [],
   "source": [
    "from sklearn.model_selection import StratifiedKFold, train_test_split\n",
    "from sklearn import linear_model\n",
    "from sklearn.metrics import roc_auc_score, accuracy_score, recall_score, precision_score\n"
   ]
  },
  {
   "cell_type": "code",
   "execution_count": 38,
   "metadata": {},
   "outputs": [],
   "source": [
    "dummy_train = pd.get_dummies(train, drop_first=True)\n",
    "dummy_train.target = train.target"
   ]
  },
  {
   "cell_type": "code",
   "execution_count": 39,
   "metadata": {},
   "outputs": [
    {
     "data": {
      "text/html": [
       "<div>\n",
       "<style scoped>\n",
       "    .dataframe tbody tr th:only-of-type {\n",
       "        vertical-align: middle;\n",
       "    }\n",
       "\n",
       "    .dataframe tbody tr th {\n",
       "        vertical-align: top;\n",
       "    }\n",
       "\n",
       "    .dataframe thead th {\n",
       "        text-align: right;\n",
       "    }\n",
       "</style>\n",
       "<table border=\"1\" class=\"dataframe\">\n",
       "  <thead>\n",
       "    <tr style=\"text-align: right;\">\n",
       "      <th></th>\n",
       "      <th>city_development_index</th>\n",
       "      <th>training_hours</th>\n",
       "      <th>target</th>\n",
       "      <th>city_city_114</th>\n",
       "      <th>city_city_136</th>\n",
       "      <th>city_city_16</th>\n",
       "      <th>city_city_160</th>\n",
       "      <th>city_city_21</th>\n",
       "      <th>city_city_67</th>\n",
       "      <th>city_other_city</th>\n",
       "      <th>...</th>\n",
       "      <th>company_type_Funded Startup</th>\n",
       "      <th>company_type_NGO</th>\n",
       "      <th>company_type_Other</th>\n",
       "      <th>company_type_Public Sector</th>\n",
       "      <th>company_type_Pvt Ltd</th>\n",
       "      <th>last_new_job_2</th>\n",
       "      <th>last_new_job_3</th>\n",
       "      <th>last_new_job_4</th>\n",
       "      <th>last_new_job_&gt;4</th>\n",
       "      <th>last_new_job_never</th>\n",
       "    </tr>\n",
       "  </thead>\n",
       "  <tbody>\n",
       "    <tr>\n",
       "      <th>0</th>\n",
       "      <td>0.920</td>\n",
       "      <td>36</td>\n",
       "      <td>1.0</td>\n",
       "      <td>0</td>\n",
       "      <td>0</td>\n",
       "      <td>0</td>\n",
       "      <td>0</td>\n",
       "      <td>0</td>\n",
       "      <td>0</td>\n",
       "      <td>0</td>\n",
       "      <td>...</td>\n",
       "      <td>0</td>\n",
       "      <td>0</td>\n",
       "      <td>0</td>\n",
       "      <td>0</td>\n",
       "      <td>0</td>\n",
       "      <td>0</td>\n",
       "      <td>0</td>\n",
       "      <td>0</td>\n",
       "      <td>0</td>\n",
       "      <td>0</td>\n",
       "    </tr>\n",
       "    <tr>\n",
       "      <th>1</th>\n",
       "      <td>0.798</td>\n",
       "      <td>47</td>\n",
       "      <td>0.0</td>\n",
       "      <td>0</td>\n",
       "      <td>0</td>\n",
       "      <td>0</td>\n",
       "      <td>0</td>\n",
       "      <td>0</td>\n",
       "      <td>0</td>\n",
       "      <td>1</td>\n",
       "      <td>...</td>\n",
       "      <td>0</td>\n",
       "      <td>0</td>\n",
       "      <td>0</td>\n",
       "      <td>0</td>\n",
       "      <td>1</td>\n",
       "      <td>0</td>\n",
       "      <td>0</td>\n",
       "      <td>0</td>\n",
       "      <td>1</td>\n",
       "      <td>0</td>\n",
       "    </tr>\n",
       "    <tr>\n",
       "      <th>2</th>\n",
       "      <td>0.624</td>\n",
       "      <td>83</td>\n",
       "      <td>0.0</td>\n",
       "      <td>0</td>\n",
       "      <td>0</td>\n",
       "      <td>0</td>\n",
       "      <td>0</td>\n",
       "      <td>1</td>\n",
       "      <td>0</td>\n",
       "      <td>0</td>\n",
       "      <td>...</td>\n",
       "      <td>0</td>\n",
       "      <td>0</td>\n",
       "      <td>0</td>\n",
       "      <td>0</td>\n",
       "      <td>0</td>\n",
       "      <td>0</td>\n",
       "      <td>0</td>\n",
       "      <td>0</td>\n",
       "      <td>0</td>\n",
       "      <td>1</td>\n",
       "    </tr>\n",
       "    <tr>\n",
       "      <th>3</th>\n",
       "      <td>0.798</td>\n",
       "      <td>52</td>\n",
       "      <td>1.0</td>\n",
       "      <td>0</td>\n",
       "      <td>0</td>\n",
       "      <td>0</td>\n",
       "      <td>0</td>\n",
       "      <td>0</td>\n",
       "      <td>0</td>\n",
       "      <td>1</td>\n",
       "      <td>...</td>\n",
       "      <td>0</td>\n",
       "      <td>0</td>\n",
       "      <td>0</td>\n",
       "      <td>0</td>\n",
       "      <td>1</td>\n",
       "      <td>0</td>\n",
       "      <td>0</td>\n",
       "      <td>0</td>\n",
       "      <td>0</td>\n",
       "      <td>1</td>\n",
       "    </tr>\n",
       "    <tr>\n",
       "      <th>4</th>\n",
       "      <td>0.798</td>\n",
       "      <td>8</td>\n",
       "      <td>0.0</td>\n",
       "      <td>0</td>\n",
       "      <td>0</td>\n",
       "      <td>0</td>\n",
       "      <td>0</td>\n",
       "      <td>0</td>\n",
       "      <td>0</td>\n",
       "      <td>1</td>\n",
       "      <td>...</td>\n",
       "      <td>1</td>\n",
       "      <td>0</td>\n",
       "      <td>0</td>\n",
       "      <td>0</td>\n",
       "      <td>0</td>\n",
       "      <td>0</td>\n",
       "      <td>0</td>\n",
       "      <td>1</td>\n",
       "      <td>0</td>\n",
       "      <td>0</td>\n",
       "    </tr>\n",
       "  </tbody>\n",
       "</table>\n",
       "<p>5 rows × 62 columns</p>\n",
       "</div>"
      ],
      "text/plain": [
       "   city_development_index  training_hours  target  city_city_114  \\\n",
       "0                   0.920              36     1.0              0   \n",
       "1                   0.798              47     0.0              0   \n",
       "2                   0.624              83     0.0              0   \n",
       "3                   0.798              52     1.0              0   \n",
       "4                   0.798               8     0.0              0   \n",
       "\n",
       "   city_city_136  city_city_16  city_city_160  city_city_21  city_city_67  \\\n",
       "0              0             0              0             0             0   \n",
       "1              0             0              0             0             0   \n",
       "2              0             0              0             1             0   \n",
       "3              0             0              0             0             0   \n",
       "4              0             0              0             0             0   \n",
       "\n",
       "   city_other_city  ...  company_type_Funded Startup  company_type_NGO  \\\n",
       "0                0  ...                            0                 0   \n",
       "1                1  ...                            0                 0   \n",
       "2                0  ...                            0                 0   \n",
       "3                1  ...                            0                 0   \n",
       "4                1  ...                            1                 0   \n",
       "\n",
       "   company_type_Other  company_type_Public Sector  company_type_Pvt Ltd  \\\n",
       "0                   0                           0                     0   \n",
       "1                   0                           0                     1   \n",
       "2                   0                           0                     0   \n",
       "3                   0                           0                     1   \n",
       "4                   0                           0                     0   \n",
       "\n",
       "   last_new_job_2  last_new_job_3  last_new_job_4  last_new_job_>4  \\\n",
       "0               0               0               0                0   \n",
       "1               0               0               0                1   \n",
       "2               0               0               0                0   \n",
       "3               0               0               0                0   \n",
       "4               0               0               1                0   \n",
       "\n",
       "   last_new_job_never  \n",
       "0                   0  \n",
       "1                   0  \n",
       "2                   1  \n",
       "3                   1  \n",
       "4                   0  \n",
       "\n",
       "[5 rows x 62 columns]"
      ]
     },
     "execution_count": 39,
     "metadata": {},
     "output_type": "execute_result"
    }
   ],
   "source": [
    "dummy_train.head()"
   ]
  },
  {
   "cell_type": "code",
   "execution_count": 40,
   "metadata": {},
   "outputs": [],
   "source": [
    "X = dummy_train.drop(\"target\", axis=1)\n",
    "y = dummy_train.target"
   ]
  },
  {
   "cell_type": "code",
   "execution_count": 41,
   "metadata": {},
   "outputs": [],
   "source": [
    "#X_train, X_test, y_train, y_test = train_test_split(X, y, random_state=22)"
   ]
  },
  {
   "cell_type": "code",
   "execution_count": 42,
   "metadata": {},
   "outputs": [],
   "source": [
    "folds = 10"
   ]
  },
  {
   "cell_type": "code",
   "execution_count": 43,
   "metadata": {},
   "outputs": [
    {
     "data": {
      "text/plain": [
       "10"
      ]
     },
     "execution_count": 43,
     "metadata": {},
     "output_type": "execute_result"
    }
   ],
   "source": [
    "skf = StratifiedKFold(n_splits=folds)\n",
    "skf.get_n_splits(X, y)"
   ]
  },
  {
   "cell_type": "code",
   "execution_count": 44,
   "metadata": {},
   "outputs": [
    {
     "name": "stdout",
     "output_type": "stream",
     "text": [
      "fold 1 0.6955798645175152\n",
      "fold 2 0.719345015382057\n",
      "fold 3 0.6983161321116423\n",
      "fold 4 0.7179933472576777\n",
      "fold 5 0.6903510053064602\n",
      "fold 6 0.6819676249955134\n",
      "fold 7 0.6860680190930788\n",
      "fold 8 0.7244729514717582\n",
      "fold 9 0.6940018835134322\n",
      "fold 10 0.7104335473008525\n",
      "avg roc_auc score is 0.7018529390949988\n"
     ]
    }
   ],
   "source": [
    "roc_auc_avg = 0\n",
    "k = 0\n",
    "for train_index, test_index in skf.split(X, y):\n",
    "    k+=1\n",
    "    #print(\"TRAIN:\", train_index, \"TEST:\", test_index)\n",
    "    X_train, X_test = X.iloc[train_index, :], X.iloc[test_index, :]\n",
    "    y_train, y_test = y[train_index], y[test_index]\n",
    "    \n",
    "    lg = linear_model.LogisticRegression(max_iter=3000)\n",
    "    lg.fit(X_train, y_train)\n",
    "    \n",
    "    roc_auc_avg += roc_auc_score(lg.predict(X_test), y_test)\n",
    "    \n",
    "    print(\"fold \" + str(k) + \" \" + str(roc_auc_score(lg.predict(X_test), y_test)))\n",
    "    \n",
    "print(\"avg roc_auc score is \" + str(roc_auc_avg/k))\n",
    "    "
   ]
  },
  {
   "cell_type": "markdown",
   "metadata": {},
   "source": [
    "## for now, let's use models that can handle missing values"
   ]
  },
  {
   "cell_type": "markdown",
   "metadata": {},
   "source": [
    "## scaling data"
   ]
  },
  {
   "cell_type": "code",
   "execution_count": 45,
   "metadata": {},
   "outputs": [],
   "source": [
    "from sklearn.preprocessing import StandardScaler"
   ]
  },
  {
   "cell_type": "code",
   "execution_count": 46,
   "metadata": {
    "scrolled": true
   },
   "outputs": [
    {
     "name": "stdout",
     "output_type": "stream",
     "text": [
      "<class 'pandas.core.frame.DataFrame'>\n",
      "RangeIndex: 19158 entries, 0 to 19157\n",
      "Data columns (total 13 columns):\n",
      " #   Column                  Non-Null Count  Dtype  \n",
      "---  ------                  --------------  -----  \n",
      " 0   city                    19158 non-null  object \n",
      " 1   city_development_index  19158 non-null  float64\n",
      " 2   gender                  14650 non-null  object \n",
      " 3   relevent_experience     19158 non-null  object \n",
      " 4   enrolled_university     18772 non-null  object \n",
      " 5   education_level         18698 non-null  object \n",
      " 6   major_discipline        16345 non-null  object \n",
      " 7   experience              19093 non-null  object \n",
      " 8   company_size            13220 non-null  object \n",
      " 9   company_type            13018 non-null  object \n",
      " 10  last_new_job            18735 non-null  object \n",
      " 11  training_hours          19158 non-null  int64  \n",
      " 12  target                  19158 non-null  float64\n",
      "dtypes: float64(2), int64(1), object(10)\n",
      "memory usage: 1.9+ MB\n"
     ]
    }
   ],
   "source": [
    "train.info()"
   ]
  },
  {
   "cell_type": "code",
   "execution_count": 47,
   "metadata": {},
   "outputs": [],
   "source": [
    "sca = StandardScaler()"
   ]
  },
  {
   "cell_type": "code",
   "execution_count": 48,
   "metadata": {},
   "outputs": [],
   "source": [
    "train_std = train.copy()"
   ]
  },
  {
   "cell_type": "code",
   "execution_count": 49,
   "metadata": {},
   "outputs": [],
   "source": [
    "train_std.loc[:, [\"city_development_index\", \"training_hours\"]] = sca.fit_transform(train_std.loc[:, [\"city_development_index\", \"training_hours\"]])\n",
    "\n",
    "train_std = pd.get_dummies(train_std.iloc[:, :-1], drop_first=True)\n",
    "train_std[\"target\"] = train[\"target\"]\n"
   ]
  },
  {
   "cell_type": "code",
   "execution_count": 50,
   "metadata": {},
   "outputs": [],
   "source": [
    "X = train_std.drop(\"target\", axis=1)\n",
    "y = train_std.target"
   ]
  },
  {
   "cell_type": "code",
   "execution_count": 51,
   "metadata": {},
   "outputs": [
    {
     "data": {
      "text/plain": [
       "10"
      ]
     },
     "execution_count": 51,
     "metadata": {},
     "output_type": "execute_result"
    }
   ],
   "source": [
    "skf = StratifiedKFold(n_splits=folds)\n",
    "skf.get_n_splits(X, y)"
   ]
  },
  {
   "cell_type": "code",
   "execution_count": 52,
   "metadata": {},
   "outputs": [
    {
     "name": "stdout",
     "output_type": "stream",
     "text": [
      "fold 1 0.6955798645175152\n",
      "fold 2 0.719345015382057\n",
      "fold 3 0.6983161321116423\n",
      "fold 4 0.7176614645858345\n",
      "fold 5 0.6881569142677857\n",
      "fold 6 0.6819676249955134\n",
      "fold 7 0.6886048817620015\n",
      "fold 8 0.7264359133860601\n",
      "fold 9 0.695962544054551\n",
      "fold 10 0.7104335473008525\n",
      "avg roc_auc score is 0.7022463902363814\n"
     ]
    }
   ],
   "source": [
    "roc_auc_avg = 0\n",
    "k = 0\n",
    "for train_index, test_index in skf.split(X, y):\n",
    "    k+=1\n",
    "    #print(\"TRAIN:\", train_index, \"TEST:\", test_index)\n",
    "    X_train, X_test = X.iloc[train_index, :], X.iloc[test_index, :]\n",
    "    y_train, y_test = y[train_index], y[test_index]\n",
    "    \n",
    "    lg = linear_model.LogisticRegression(max_iter=3000)\n",
    "    lg.fit(X_train, y_train)\n",
    "    \n",
    "    roc_auc_avg += roc_auc_score(lg.predict(X_test), y_test)\n",
    "    \n",
    "    print(\"fold \" + str(k) + \" \" + str(roc_auc_score(lg.predict(X_test), y_test)))\n",
    "    \n",
    "print(\"avg roc_auc score is \" + str(roc_auc_avg/k))"
   ]
  },
  {
   "cell_type": "code",
   "execution_count": 53,
   "metadata": {},
   "outputs": [],
   "source": [
    "from sklearn.ensemble import RandomForestClassifier"
   ]
  },
  {
   "cell_type": "code",
   "execution_count": 54,
   "metadata": {},
   "outputs": [
    {
     "data": {
      "text/plain": [
       "10"
      ]
     },
     "execution_count": 54,
     "metadata": {},
     "output_type": "execute_result"
    }
   ],
   "source": [
    "skf = StratifiedKFold(n_splits=folds)\n",
    "skf.get_n_splits(X, y)"
   ]
  },
  {
   "cell_type": "code",
   "execution_count": 55,
   "metadata": {},
   "outputs": [
    {
     "name": "stdout",
     "output_type": "stream",
     "text": [
      "fold 1 0.7038199279220246\n",
      "fold 2 0.7211860083483488\n",
      "fold 3 0.7013911145603501\n",
      "fold 4 0.7147540672939349\n",
      "fold 5 0.6876365385345602\n",
      "fold 6 0.6889766624988256\n",
      "fold 7 0.6928886148470719\n",
      "fold 8 0.7274086864974825\n",
      "fold 9 0.6982151741293532\n",
      "fold 10 0.7104335473008525\n",
      "avg roc_auc score is 0.6814904171718352\n"
     ]
    }
   ],
   "source": [
    "roc_auc_avg = 0\n",
    "k = 0\n",
    "for train_index, test_index in skf.split(X, y):\n",
    "    k+=1\n",
    "    #print(\"TRAIN:\", train_index, \"TEST:\", test_index)\n",
    "    X_train, X_test = X.iloc[train_index, :], X.iloc[test_index, :]\n",
    "    y_train, y_test = y[train_index], y[test_index]\n",
    "    \n",
    "    rfc = RandomForestClassifier()\n",
    "    rfc.fit(X_train, y_train)\n",
    "    \n",
    "    roc_auc_avg += roc_auc_score(rfc.predict(X_test), y_test)\n",
    "    \n",
    "    print(\"fold \" + str(k) + \" \" + str(roc_auc_score(rfc.predict(X_test), y_test)))\n",
    "    \n",
    "print(\"avg roc_auc score is \" + str(roc_auc_avg/k))"
   ]
  },
  {
   "cell_type": "code",
   "execution_count": null,
   "metadata": {},
   "outputs": [],
   "source": []
  },
  {
   "cell_type": "markdown",
   "metadata": {},
   "source": [
    "## try dropping missing data"
   ]
  },
  {
   "cell_type": "code",
   "execution_count": 111,
   "metadata": {},
   "outputs": [],
   "source": [
    "dropped_train = train.copy()\n",
    "dropped_train.dropna(inplace=True)"
   ]
  },
  {
   "cell_type": "code",
   "execution_count": 112,
   "metadata": {
    "scrolled": true
   },
   "outputs": [
    {
     "data": {
      "text/plain": [
       "city                      0.0\n",
       "city_development_index    0.0\n",
       "gender                    0.0\n",
       "relevent_experience       0.0\n",
       "enrolled_university       0.0\n",
       "education_level           0.0\n",
       "major_discipline          0.0\n",
       "experience                0.0\n",
       "company_size              0.0\n",
       "company_type              0.0\n",
       "last_new_job              0.0\n",
       "training_hours            0.0\n",
       "target                    0.0\n",
       "dtype: float64"
      ]
     },
     "execution_count": 112,
     "metadata": {},
     "output_type": "execute_result"
    }
   ],
   "source": [
    "dropped_train.isnull().mean()"
   ]
  },
  {
   "cell_type": "code",
   "execution_count": 113,
   "metadata": {},
   "outputs": [
    {
     "data": {
      "text/plain": [
       "Index(['city', 'city_development_index', 'gender', 'relevent_experience',\n",
       "       'enrolled_university', 'education_level', 'major_discipline',\n",
       "       'experience', 'company_size', 'company_type', 'last_new_job',\n",
       "       'training_hours', 'target'],\n",
       "      dtype='object')"
      ]
     },
     "execution_count": 113,
     "metadata": {},
     "output_type": "execute_result"
    }
   ],
   "source": [
    "dropped_train.columns"
   ]
  },
  {
   "cell_type": "code",
   "execution_count": 114,
   "metadata": {},
   "outputs": [],
   "source": [
    "dropped_train.reset_index(inplace=True)"
   ]
  },
  {
   "cell_type": "code",
   "execution_count": 116,
   "metadata": {},
   "outputs": [],
   "source": [
    "dropped_train.drop(\"index\", axis=1, inplace=True)"
   ]
  },
  {
   "cell_type": "code",
   "execution_count": 118,
   "metadata": {},
   "outputs": [],
   "source": [
    "sca = StandardScaler()\n",
    "\n",
    "dropped_train.loc[:, [\"city_development_index\", \"training_hours\"]] = sca.fit_transform(dropped_train.loc[:, [\"city_development_index\", \"training_hours\"]])\n",
    "\n",
    "dropped_train_dummy = pd.get_dummies(dropped_train.iloc[:, :-1], drop_first=True)\n",
    "dropped_train_dummy[\"target\"] = dropped_train[\"target\"]\n"
   ]
  },
  {
   "cell_type": "code",
   "execution_count": 119,
   "metadata": {},
   "outputs": [],
   "source": [
    "X = dropped_train_dummy.drop(\"target\", axis=1)\n",
    "y = dropped_train_dummy.target"
   ]
  },
  {
   "cell_type": "code",
   "execution_count": 120,
   "metadata": {},
   "outputs": [
    {
     "data": {
      "text/plain": [
       "10"
      ]
     },
     "execution_count": 120,
     "metadata": {},
     "output_type": "execute_result"
    }
   ],
   "source": [
    "skf = StratifiedKFold(n_splits=folds)\n",
    "skf.get_n_splits(X, y)"
   ]
  },
  {
   "cell_type": "code",
   "execution_count": 121,
   "metadata": {},
   "outputs": [
    {
     "name": "stdout",
     "output_type": "stream",
     "text": [
      "(8955, 59)\n",
      "(8955,)\n"
     ]
    }
   ],
   "source": [
    "print(np.shape(X))\n",
    "print(np.shape(y))"
   ]
  },
  {
   "cell_type": "code",
   "execution_count": 122,
   "metadata": {},
   "outputs": [
    {
     "name": "stdout",
     "output_type": "stream",
     "text": [
      "fold 1 0.7623600344530578\n",
      "fold 2 0.7451303899864946\n",
      "fold 3 0.7311694050536295\n",
      "fold 4 0.7672144964180363\n",
      "fold 5 0.7336932073774178\n",
      "fold 6 0.7408077154912599\n",
      "fold 7 0.7390251572327043\n",
      "fold 8 0.7386321489503747\n",
      "fold 9 0.7194532723561481\n",
      "fold 10 0.730453649898995\n",
      "avg roc_auc score is 0.7407939477218118\n"
     ]
    }
   ],
   "source": [
    "roc_auc_avg = 0\n",
    "k = 0\n",
    "for train_index, test_index in skf.split(X, y):\n",
    "    k+=1\n",
    "    #print(\"TRAIN:\", train_index, \"TEST:\", test_index)\n",
    "    X_train, X_test = X.iloc[train_index, :], X.iloc[test_index, :]\n",
    "    y_train, y_test = y[train_index], y[test_index]\n",
    "    \n",
    "    lg = linear_model.LogisticRegression(max_iter=3000)\n",
    "    lg.fit(X_train, y_train)\n",
    "    \n",
    "    roc_auc_avg += roc_auc_score(lg.predict(X_test), y_test)\n",
    "    \n",
    "    print(\"fold \" + str(k) + \" \" + str(roc_auc_score(lg.predict(X_test), y_test)))\n",
    "    \n",
    "print(\"avg roc_auc score is \" + str(roc_auc_avg/k))"
   ]
  },
  {
   "cell_type": "code",
   "execution_count": 123,
   "metadata": {},
   "outputs": [
    {
     "data": {
      "text/plain": [
       "10"
      ]
     },
     "execution_count": 123,
     "metadata": {},
     "output_type": "execute_result"
    }
   ],
   "source": [
    "skf = StratifiedKFold(n_splits=folds)\n",
    "skf.get_n_splits(X, y)"
   ]
  },
  {
   "cell_type": "code",
   "execution_count": 124,
   "metadata": {},
   "outputs": [
    {
     "name": "stdout",
     "output_type": "stream",
     "text": [
      "fold 1 0.7612511251125113\n",
      "fold 2 0.7430663221360896\n",
      "fold 3 0.7339497002175412\n",
      "fold 4 0.7694888941963219\n",
      "fold 5 0.7362290008841732\n",
      "fold 6 0.7581354950781702\n",
      "fold 7 0.7416140858418335\n",
      "fold 8 0.7390251572327043\n",
      "fold 9 0.7390251572327043\n",
      "fold 10 0.730453649898995\n",
      "avg roc_auc score is 0.7115077428562062\n"
     ]
    }
   ],
   "source": [
    "roc_auc_avg = 0\n",
    "k = 0\n",
    "for train_index, test_index in skf.split(X, y):\n",
    "    k+=1\n",
    "    #print(\"TRAIN:\", train_index, \"TEST:\", test_index)\n",
    "    X_train, X_test = X.iloc[train_index, :], X.iloc[test_index, :]\n",
    "    y_train, y_test = y[train_index], y[test_index]\n",
    "    \n",
    "    rfc = RandomForestClassifier()\n",
    "    rfc.fit(X_train, y_train)\n",
    "    \n",
    "    roc_auc_avg += roc_auc_score(rfc.predict(X_test), y_test)\n",
    "    \n",
    "    print(\"fold \" + str(k) + \" \" + str(roc_auc_score(rfc.predict(X_test), y_test)))\n",
    "    \n",
    "print(\"avg roc_auc score is \" + str(roc_auc_avg/k))"
   ]
  },
  {
   "cell_type": "markdown",
   "metadata": {},
   "source": [
    "## dimensionality reduction"
   ]
  },
  {
   "cell_type": "code",
   "execution_count": 125,
   "metadata": {},
   "outputs": [],
   "source": [
    "import seaborn as sns\n",
    "sns.set_style(\"darkgrid\")"
   ]
  },
  {
   "cell_type": "code",
   "execution_count": 126,
   "metadata": {},
   "outputs": [],
   "source": [
    "from sklearn.decomposition import PCA"
   ]
  },
  {
   "cell_type": "code",
   "execution_count": 127,
   "metadata": {},
   "outputs": [],
   "source": [
    "pca = PCA(random_state=0)"
   ]
  },
  {
   "cell_type": "code",
   "execution_count": 128,
   "metadata": {
    "scrolled": true
   },
   "outputs": [],
   "source": [
    "X_pca = pca.fit_transform(X)"
   ]
  },
  {
   "cell_type": "code",
   "execution_count": 129,
   "metadata": {},
   "outputs": [
    {
     "data": {
      "text/plain": [
       "array([1.91422159e-01, 1.69842774e-01, 4.56897822e-02, 4.29886747e-02,\n",
       "       3.68902113e-02, 3.62204072e-02, 3.42556254e-02, 3.11425987e-02,\n",
       "       2.62176797e-02, 2.36598996e-02, 2.16924796e-02, 2.09940362e-02,\n",
       "       1.95728061e-02, 1.74168467e-02, 1.53072984e-02, 1.46066753e-02,\n",
       "       1.42333338e-02, 1.24517407e-02, 1.15687666e-02, 1.10771094e-02,\n",
       "       1.07054298e-02, 1.02437663e-02, 1.00926545e-02, 9.78886407e-03,\n",
       "       9.55795027e-03, 9.22374247e-03, 8.70851045e-03, 8.32845206e-03,\n",
       "       8.17381642e-03, 7.81211080e-03, 7.55136259e-03, 7.30478511e-03,\n",
       "       7.05766350e-03, 6.50211643e-03, 6.43927657e-03, 6.00050054e-03,\n",
       "       5.89229903e-03, 5.58557789e-03, 5.14713348e-03, 5.02353976e-03,\n",
       "       4.92357115e-03, 4.49787062e-03, 4.48678618e-03, 4.03308043e-03,\n",
       "       3.91795402e-03, 3.45782177e-03, 3.24841880e-03, 3.20537102e-03,\n",
       "       3.11572710e-03, 2.34165500e-03, 2.25805322e-03, 1.93157964e-03,\n",
       "       1.83656332e-03, 1.64004357e-03, 1.31756800e-03, 8.67439772e-04,\n",
       "       4.27764153e-04, 1.02275040e-04, 2.61496784e-34])"
      ]
     },
     "execution_count": 129,
     "metadata": {},
     "output_type": "execute_result"
    }
   ],
   "source": [
    "pca.explained_variance_ratio_"
   ]
  },
  {
   "cell_type": "code",
   "execution_count": 130,
   "metadata": {},
   "outputs": [
    {
     "data": {
      "text/plain": [
       "array([-9.38387355e-01,  5.25479374e-02, -6.25658255e-02, -1.82653834e-02,\n",
       "       -6.89940275e-02, -3.53359461e-02,  2.52653041e-01, -3.52093370e-03,\n",
       "        1.45121671e-01,  1.20959636e-02, -2.42420191e-03, -2.80206562e-03,\n",
       "        3.04326620e-03, -4.47303200e-02,  2.41643855e-03, -9.38214441e-03,\n",
       "       -6.16470667e-03, -2.18904258e-02, -2.97902322e-03, -2.86097041e-03,\n",
       "        4.26415129e-02,  2.34624859e-03, -1.19017003e-03,  4.50026534e-04,\n",
       "       -1.99113769e-03, -4.79940651e-03, -7.18038340e-03, -6.42147277e-03,\n",
       "       -2.46829528e-03, -4.58946549e-03, -3.84742593e-03,  1.29315299e-02,\n",
       "       -2.57716506e-03,  2.22806038e-02,  1.48841691e-02,  1.80837298e-02,\n",
       "        1.57051111e-02,  1.37358936e-02,  9.82168884e-03,  5.89599957e-03,\n",
       "        8.65904247e-03, -9.66120233e-02, -4.20171524e-03, -1.32551504e-02,\n",
       "       -8.69318019e-03,  8.81072361e-03, -2.28135209e-04, -4.49013497e-03,\n",
       "        1.10611947e-02, -6.95902502e-03, -8.60872854e-03, -2.70363803e-03,\n",
       "       -1.49937526e-02,  1.89847802e-02,  2.51494030e-03, -9.41400341e-04,\n",
       "       -6.83121399e-03, -6.12295868e-02,  2.27578393e-02])"
      ]
     },
     "execution_count": 130,
     "metadata": {},
     "output_type": "execute_result"
    }
   ],
   "source": [
    "pca.components_[0]"
   ]
  },
  {
   "cell_type": "code",
   "execution_count": 131,
   "metadata": {},
   "outputs": [
    {
     "name": "stdout",
     "output_type": "stream",
     "text": [
      "(8955, 59)\n",
      "(59,)\n"
     ]
    }
   ],
   "source": [
    "print(np.shape(X))\n",
    "print(np.shape(pca.components_[0]))"
   ]
  },
  {
   "cell_type": "code",
   "execution_count": 132,
   "metadata": {},
   "outputs": [
    {
     "data": {
      "application/javascript": [
       "/* Put everything inside the global mpl namespace */\n",
       "/* global mpl */\n",
       "window.mpl = {};\n",
       "\n",
       "mpl.get_websocket_type = function () {\n",
       "    if (typeof WebSocket !== 'undefined') {\n",
       "        return WebSocket;\n",
       "    } else if (typeof MozWebSocket !== 'undefined') {\n",
       "        return MozWebSocket;\n",
       "    } else {\n",
       "        alert(\n",
       "            'Your browser does not have WebSocket support. ' +\n",
       "                'Please try Chrome, Safari or Firefox ≥ 6. ' +\n",
       "                'Firefox 4 and 5 are also supported but you ' +\n",
       "                'have to enable WebSockets in about:config.'\n",
       "        );\n",
       "    }\n",
       "};\n",
       "\n",
       "mpl.figure = function (figure_id, websocket, ondownload, parent_element) {\n",
       "    this.id = figure_id;\n",
       "\n",
       "    this.ws = websocket;\n",
       "\n",
       "    this.supports_binary = this.ws.binaryType !== undefined;\n",
       "\n",
       "    if (!this.supports_binary) {\n",
       "        var warnings = document.getElementById('mpl-warnings');\n",
       "        if (warnings) {\n",
       "            warnings.style.display = 'block';\n",
       "            warnings.textContent =\n",
       "                'This browser does not support binary websocket messages. ' +\n",
       "                'Performance may be slow.';\n",
       "        }\n",
       "    }\n",
       "\n",
       "    this.imageObj = new Image();\n",
       "\n",
       "    this.context = undefined;\n",
       "    this.message = undefined;\n",
       "    this.canvas = undefined;\n",
       "    this.rubberband_canvas = undefined;\n",
       "    this.rubberband_context = undefined;\n",
       "    this.format_dropdown = undefined;\n",
       "\n",
       "    this.image_mode = 'full';\n",
       "\n",
       "    this.root = document.createElement('div');\n",
       "    this.root.setAttribute('style', 'display: inline-block');\n",
       "    this._root_extra_style(this.root);\n",
       "\n",
       "    parent_element.appendChild(this.root);\n",
       "\n",
       "    this._init_header(this);\n",
       "    this._init_canvas(this);\n",
       "    this._init_toolbar(this);\n",
       "\n",
       "    var fig = this;\n",
       "\n",
       "    this.waiting = false;\n",
       "\n",
       "    this.ws.onopen = function () {\n",
       "        fig.send_message('supports_binary', { value: fig.supports_binary });\n",
       "        fig.send_message('send_image_mode', {});\n",
       "        if (fig.ratio !== 1) {\n",
       "            fig.send_message('set_dpi_ratio', { dpi_ratio: fig.ratio });\n",
       "        }\n",
       "        fig.send_message('refresh', {});\n",
       "    };\n",
       "\n",
       "    this.imageObj.onload = function () {\n",
       "        if (fig.image_mode === 'full') {\n",
       "            // Full images could contain transparency (where diff images\n",
       "            // almost always do), so we need to clear the canvas so that\n",
       "            // there is no ghosting.\n",
       "            fig.context.clearRect(0, 0, fig.canvas.width, fig.canvas.height);\n",
       "        }\n",
       "        fig.context.drawImage(fig.imageObj, 0, 0);\n",
       "    };\n",
       "\n",
       "    this.imageObj.onunload = function () {\n",
       "        fig.ws.close();\n",
       "    };\n",
       "\n",
       "    this.ws.onmessage = this._make_on_message_function(this);\n",
       "\n",
       "    this.ondownload = ondownload;\n",
       "};\n",
       "\n",
       "mpl.figure.prototype._init_header = function () {\n",
       "    var titlebar = document.createElement('div');\n",
       "    titlebar.classList =\n",
       "        'ui-dialog-titlebar ui-widget-header ui-corner-all ui-helper-clearfix';\n",
       "    var titletext = document.createElement('div');\n",
       "    titletext.classList = 'ui-dialog-title';\n",
       "    titletext.setAttribute(\n",
       "        'style',\n",
       "        'width: 100%; text-align: center; padding: 3px;'\n",
       "    );\n",
       "    titlebar.appendChild(titletext);\n",
       "    this.root.appendChild(titlebar);\n",
       "    this.header = titletext;\n",
       "};\n",
       "\n",
       "mpl.figure.prototype._canvas_extra_style = function (_canvas_div) {};\n",
       "\n",
       "mpl.figure.prototype._root_extra_style = function (_canvas_div) {};\n",
       "\n",
       "mpl.figure.prototype._init_canvas = function () {\n",
       "    var fig = this;\n",
       "\n",
       "    var canvas_div = (this.canvas_div = document.createElement('div'));\n",
       "    canvas_div.setAttribute(\n",
       "        'style',\n",
       "        'border: 1px solid #ddd;' +\n",
       "            'box-sizing: content-box;' +\n",
       "            'clear: both;' +\n",
       "            'min-height: 1px;' +\n",
       "            'min-width: 1px;' +\n",
       "            'outline: 0;' +\n",
       "            'overflow: hidden;' +\n",
       "            'position: relative;' +\n",
       "            'resize: both;'\n",
       "    );\n",
       "\n",
       "    function on_keyboard_event_closure(name) {\n",
       "        return function (event) {\n",
       "            return fig.key_event(event, name);\n",
       "        };\n",
       "    }\n",
       "\n",
       "    canvas_div.addEventListener(\n",
       "        'keydown',\n",
       "        on_keyboard_event_closure('key_press')\n",
       "    );\n",
       "    canvas_div.addEventListener(\n",
       "        'keyup',\n",
       "        on_keyboard_event_closure('key_release')\n",
       "    );\n",
       "\n",
       "    this._canvas_extra_style(canvas_div);\n",
       "    this.root.appendChild(canvas_div);\n",
       "\n",
       "    var canvas = (this.canvas = document.createElement('canvas'));\n",
       "    canvas.classList.add('mpl-canvas');\n",
       "    canvas.setAttribute('style', 'box-sizing: content-box;');\n",
       "\n",
       "    this.context = canvas.getContext('2d');\n",
       "\n",
       "    var backingStore =\n",
       "        this.context.backingStorePixelRatio ||\n",
       "        this.context.webkitBackingStorePixelRatio ||\n",
       "        this.context.mozBackingStorePixelRatio ||\n",
       "        this.context.msBackingStorePixelRatio ||\n",
       "        this.context.oBackingStorePixelRatio ||\n",
       "        this.context.backingStorePixelRatio ||\n",
       "        1;\n",
       "\n",
       "    this.ratio = (window.devicePixelRatio || 1) / backingStore;\n",
       "    if (this.ratio !== 1) {\n",
       "        fig.send_message('set_dpi_ratio', { dpi_ratio: this.ratio });\n",
       "    }\n",
       "\n",
       "    var rubberband_canvas = (this.rubberband_canvas = document.createElement(\n",
       "        'canvas'\n",
       "    ));\n",
       "    rubberband_canvas.setAttribute(\n",
       "        'style',\n",
       "        'box-sizing: content-box; position: absolute; left: 0; top: 0; z-index: 1;'\n",
       "    );\n",
       "\n",
       "    // Apply a ponyfill if ResizeObserver is not implemented by browser.\n",
       "    if (this.ResizeObserver === undefined) {\n",
       "        if (window.ResizeObserver !== undefined) {\n",
       "            this.ResizeObserver = window.ResizeObserver;\n",
       "        } else {\n",
       "            var obs = _JSXTOOLS_RESIZE_OBSERVER({});\n",
       "            this.ResizeObserver = obs.ResizeObserver;\n",
       "        }\n",
       "    }\n",
       "\n",
       "    this.resizeObserverInstance = new this.ResizeObserver(function (entries) {\n",
       "        var nentries = entries.length;\n",
       "        for (var i = 0; i < nentries; i++) {\n",
       "            var entry = entries[i];\n",
       "            var width, height;\n",
       "            if (entry.contentBoxSize) {\n",
       "                if (entry.contentBoxSize instanceof Array) {\n",
       "                    // Chrome 84 implements new version of spec.\n",
       "                    width = entry.contentBoxSize[0].inlineSize;\n",
       "                    height = entry.contentBoxSize[0].blockSize;\n",
       "                } else {\n",
       "                    // Firefox implements old version of spec.\n",
       "                    width = entry.contentBoxSize.inlineSize;\n",
       "                    height = entry.contentBoxSize.blockSize;\n",
       "                }\n",
       "            } else {\n",
       "                // Chrome <84 implements even older version of spec.\n",
       "                width = entry.contentRect.width;\n",
       "                height = entry.contentRect.height;\n",
       "            }\n",
       "\n",
       "            // Keep the size of the canvas and rubber band canvas in sync with\n",
       "            // the canvas container.\n",
       "            if (entry.devicePixelContentBoxSize) {\n",
       "                // Chrome 84 implements new version of spec.\n",
       "                canvas.setAttribute(\n",
       "                    'width',\n",
       "                    entry.devicePixelContentBoxSize[0].inlineSize\n",
       "                );\n",
       "                canvas.setAttribute(\n",
       "                    'height',\n",
       "                    entry.devicePixelContentBoxSize[0].blockSize\n",
       "                );\n",
       "            } else {\n",
       "                canvas.setAttribute('width', width * fig.ratio);\n",
       "                canvas.setAttribute('height', height * fig.ratio);\n",
       "            }\n",
       "            canvas.setAttribute(\n",
       "                'style',\n",
       "                'width: ' + width + 'px; height: ' + height + 'px;'\n",
       "            );\n",
       "\n",
       "            rubberband_canvas.setAttribute('width', width);\n",
       "            rubberband_canvas.setAttribute('height', height);\n",
       "\n",
       "            // And update the size in Python. We ignore the initial 0/0 size\n",
       "            // that occurs as the element is placed into the DOM, which should\n",
       "            // otherwise not happen due to the minimum size styling.\n",
       "            if (width != 0 && height != 0) {\n",
       "                fig.request_resize(width, height);\n",
       "            }\n",
       "        }\n",
       "    });\n",
       "    this.resizeObserverInstance.observe(canvas_div);\n",
       "\n",
       "    function on_mouse_event_closure(name) {\n",
       "        return function (event) {\n",
       "            return fig.mouse_event(event, name);\n",
       "        };\n",
       "    }\n",
       "\n",
       "    rubberband_canvas.addEventListener(\n",
       "        'mousedown',\n",
       "        on_mouse_event_closure('button_press')\n",
       "    );\n",
       "    rubberband_canvas.addEventListener(\n",
       "        'mouseup',\n",
       "        on_mouse_event_closure('button_release')\n",
       "    );\n",
       "    // Throttle sequential mouse events to 1 every 20ms.\n",
       "    rubberband_canvas.addEventListener(\n",
       "        'mousemove',\n",
       "        on_mouse_event_closure('motion_notify')\n",
       "    );\n",
       "\n",
       "    rubberband_canvas.addEventListener(\n",
       "        'mouseenter',\n",
       "        on_mouse_event_closure('figure_enter')\n",
       "    );\n",
       "    rubberband_canvas.addEventListener(\n",
       "        'mouseleave',\n",
       "        on_mouse_event_closure('figure_leave')\n",
       "    );\n",
       "\n",
       "    canvas_div.addEventListener('wheel', function (event) {\n",
       "        if (event.deltaY < 0) {\n",
       "            event.step = 1;\n",
       "        } else {\n",
       "            event.step = -1;\n",
       "        }\n",
       "        on_mouse_event_closure('scroll')(event);\n",
       "    });\n",
       "\n",
       "    canvas_div.appendChild(canvas);\n",
       "    canvas_div.appendChild(rubberband_canvas);\n",
       "\n",
       "    this.rubberband_context = rubberband_canvas.getContext('2d');\n",
       "    this.rubberband_context.strokeStyle = '#000000';\n",
       "\n",
       "    this._resize_canvas = function (width, height, forward) {\n",
       "        if (forward) {\n",
       "            canvas_div.style.width = width + 'px';\n",
       "            canvas_div.style.height = height + 'px';\n",
       "        }\n",
       "    };\n",
       "\n",
       "    // Disable right mouse context menu.\n",
       "    this.rubberband_canvas.addEventListener('contextmenu', function (_e) {\n",
       "        event.preventDefault();\n",
       "        return false;\n",
       "    });\n",
       "\n",
       "    function set_focus() {\n",
       "        canvas.focus();\n",
       "        canvas_div.focus();\n",
       "    }\n",
       "\n",
       "    window.setTimeout(set_focus, 100);\n",
       "};\n",
       "\n",
       "mpl.figure.prototype._init_toolbar = function () {\n",
       "    var fig = this;\n",
       "\n",
       "    var toolbar = document.createElement('div');\n",
       "    toolbar.classList = 'mpl-toolbar';\n",
       "    this.root.appendChild(toolbar);\n",
       "\n",
       "    function on_click_closure(name) {\n",
       "        return function (_event) {\n",
       "            return fig.toolbar_button_onclick(name);\n",
       "        };\n",
       "    }\n",
       "\n",
       "    function on_mouseover_closure(tooltip) {\n",
       "        return function (event) {\n",
       "            if (!event.currentTarget.disabled) {\n",
       "                return fig.toolbar_button_onmouseover(tooltip);\n",
       "            }\n",
       "        };\n",
       "    }\n",
       "\n",
       "    fig.buttons = {};\n",
       "    var buttonGroup = document.createElement('div');\n",
       "    buttonGroup.classList = 'mpl-button-group';\n",
       "    for (var toolbar_ind in mpl.toolbar_items) {\n",
       "        var name = mpl.toolbar_items[toolbar_ind][0];\n",
       "        var tooltip = mpl.toolbar_items[toolbar_ind][1];\n",
       "        var image = mpl.toolbar_items[toolbar_ind][2];\n",
       "        var method_name = mpl.toolbar_items[toolbar_ind][3];\n",
       "\n",
       "        if (!name) {\n",
       "            /* Instead of a spacer, we start a new button group. */\n",
       "            if (buttonGroup.hasChildNodes()) {\n",
       "                toolbar.appendChild(buttonGroup);\n",
       "            }\n",
       "            buttonGroup = document.createElement('div');\n",
       "            buttonGroup.classList = 'mpl-button-group';\n",
       "            continue;\n",
       "        }\n",
       "\n",
       "        var button = (fig.buttons[name] = document.createElement('button'));\n",
       "        button.classList = 'mpl-widget';\n",
       "        button.setAttribute('role', 'button');\n",
       "        button.setAttribute('aria-disabled', 'false');\n",
       "        button.addEventListener('click', on_click_closure(method_name));\n",
       "        button.addEventListener('mouseover', on_mouseover_closure(tooltip));\n",
       "\n",
       "        var icon_img = document.createElement('img');\n",
       "        icon_img.src = '_images/' + image + '.png';\n",
       "        icon_img.srcset = '_images/' + image + '_large.png 2x';\n",
       "        icon_img.alt = tooltip;\n",
       "        button.appendChild(icon_img);\n",
       "\n",
       "        buttonGroup.appendChild(button);\n",
       "    }\n",
       "\n",
       "    if (buttonGroup.hasChildNodes()) {\n",
       "        toolbar.appendChild(buttonGroup);\n",
       "    }\n",
       "\n",
       "    var fmt_picker = document.createElement('select');\n",
       "    fmt_picker.classList = 'mpl-widget';\n",
       "    toolbar.appendChild(fmt_picker);\n",
       "    this.format_dropdown = fmt_picker;\n",
       "\n",
       "    for (var ind in mpl.extensions) {\n",
       "        var fmt = mpl.extensions[ind];\n",
       "        var option = document.createElement('option');\n",
       "        option.selected = fmt === mpl.default_extension;\n",
       "        option.innerHTML = fmt;\n",
       "        fmt_picker.appendChild(option);\n",
       "    }\n",
       "\n",
       "    var status_bar = document.createElement('span');\n",
       "    status_bar.classList = 'mpl-message';\n",
       "    toolbar.appendChild(status_bar);\n",
       "    this.message = status_bar;\n",
       "};\n",
       "\n",
       "mpl.figure.prototype.request_resize = function (x_pixels, y_pixels) {\n",
       "    // Request matplotlib to resize the figure. Matplotlib will then trigger a resize in the client,\n",
       "    // which will in turn request a refresh of the image.\n",
       "    this.send_message('resize', { width: x_pixels, height: y_pixels });\n",
       "};\n",
       "\n",
       "mpl.figure.prototype.send_message = function (type, properties) {\n",
       "    properties['type'] = type;\n",
       "    properties['figure_id'] = this.id;\n",
       "    this.ws.send(JSON.stringify(properties));\n",
       "};\n",
       "\n",
       "mpl.figure.prototype.send_draw_message = function () {\n",
       "    if (!this.waiting) {\n",
       "        this.waiting = true;\n",
       "        this.ws.send(JSON.stringify({ type: 'draw', figure_id: this.id }));\n",
       "    }\n",
       "};\n",
       "\n",
       "mpl.figure.prototype.handle_save = function (fig, _msg) {\n",
       "    var format_dropdown = fig.format_dropdown;\n",
       "    var format = format_dropdown.options[format_dropdown.selectedIndex].value;\n",
       "    fig.ondownload(fig, format);\n",
       "};\n",
       "\n",
       "mpl.figure.prototype.handle_resize = function (fig, msg) {\n",
       "    var size = msg['size'];\n",
       "    if (size[0] !== fig.canvas.width || size[1] !== fig.canvas.height) {\n",
       "        fig._resize_canvas(size[0], size[1], msg['forward']);\n",
       "        fig.send_message('refresh', {});\n",
       "    }\n",
       "};\n",
       "\n",
       "mpl.figure.prototype.handle_rubberband = function (fig, msg) {\n",
       "    var x0 = msg['x0'] / fig.ratio;\n",
       "    var y0 = (fig.canvas.height - msg['y0']) / fig.ratio;\n",
       "    var x1 = msg['x1'] / fig.ratio;\n",
       "    var y1 = (fig.canvas.height - msg['y1']) / fig.ratio;\n",
       "    x0 = Math.floor(x0) + 0.5;\n",
       "    y0 = Math.floor(y0) + 0.5;\n",
       "    x1 = Math.floor(x1) + 0.5;\n",
       "    y1 = Math.floor(y1) + 0.5;\n",
       "    var min_x = Math.min(x0, x1);\n",
       "    var min_y = Math.min(y0, y1);\n",
       "    var width = Math.abs(x1 - x0);\n",
       "    var height = Math.abs(y1 - y0);\n",
       "\n",
       "    fig.rubberband_context.clearRect(\n",
       "        0,\n",
       "        0,\n",
       "        fig.canvas.width / fig.ratio,\n",
       "        fig.canvas.height / fig.ratio\n",
       "    );\n",
       "\n",
       "    fig.rubberband_context.strokeRect(min_x, min_y, width, height);\n",
       "};\n",
       "\n",
       "mpl.figure.prototype.handle_figure_label = function (fig, msg) {\n",
       "    // Updates the figure title.\n",
       "    fig.header.textContent = msg['label'];\n",
       "};\n",
       "\n",
       "mpl.figure.prototype.handle_cursor = function (fig, msg) {\n",
       "    var cursor = msg['cursor'];\n",
       "    switch (cursor) {\n",
       "        case 0:\n",
       "            cursor = 'pointer';\n",
       "            break;\n",
       "        case 1:\n",
       "            cursor = 'default';\n",
       "            break;\n",
       "        case 2:\n",
       "            cursor = 'crosshair';\n",
       "            break;\n",
       "        case 3:\n",
       "            cursor = 'move';\n",
       "            break;\n",
       "    }\n",
       "    fig.rubberband_canvas.style.cursor = cursor;\n",
       "};\n",
       "\n",
       "mpl.figure.prototype.handle_message = function (fig, msg) {\n",
       "    fig.message.textContent = msg['message'];\n",
       "};\n",
       "\n",
       "mpl.figure.prototype.handle_draw = function (fig, _msg) {\n",
       "    // Request the server to send over a new figure.\n",
       "    fig.send_draw_message();\n",
       "};\n",
       "\n",
       "mpl.figure.prototype.handle_image_mode = function (fig, msg) {\n",
       "    fig.image_mode = msg['mode'];\n",
       "};\n",
       "\n",
       "mpl.figure.prototype.handle_history_buttons = function (fig, msg) {\n",
       "    for (var key in msg) {\n",
       "        if (!(key in fig.buttons)) {\n",
       "            continue;\n",
       "        }\n",
       "        fig.buttons[key].disabled = !msg[key];\n",
       "        fig.buttons[key].setAttribute('aria-disabled', !msg[key]);\n",
       "    }\n",
       "};\n",
       "\n",
       "mpl.figure.prototype.handle_navigate_mode = function (fig, msg) {\n",
       "    if (msg['mode'] === 'PAN') {\n",
       "        fig.buttons['Pan'].classList.add('active');\n",
       "        fig.buttons['Zoom'].classList.remove('active');\n",
       "    } else if (msg['mode'] === 'ZOOM') {\n",
       "        fig.buttons['Pan'].classList.remove('active');\n",
       "        fig.buttons['Zoom'].classList.add('active');\n",
       "    } else {\n",
       "        fig.buttons['Pan'].classList.remove('active');\n",
       "        fig.buttons['Zoom'].classList.remove('active');\n",
       "    }\n",
       "};\n",
       "\n",
       "mpl.figure.prototype.updated_canvas_event = function () {\n",
       "    // Called whenever the canvas gets updated.\n",
       "    this.send_message('ack', {});\n",
       "};\n",
       "\n",
       "// A function to construct a web socket function for onmessage handling.\n",
       "// Called in the figure constructor.\n",
       "mpl.figure.prototype._make_on_message_function = function (fig) {\n",
       "    return function socket_on_message(evt) {\n",
       "        if (evt.data instanceof Blob) {\n",
       "            /* FIXME: We get \"Resource interpreted as Image but\n",
       "             * transferred with MIME type text/plain:\" errors on\n",
       "             * Chrome.  But how to set the MIME type?  It doesn't seem\n",
       "             * to be part of the websocket stream */\n",
       "            evt.data.type = 'image/png';\n",
       "\n",
       "            /* Free the memory for the previous frames */\n",
       "            if (fig.imageObj.src) {\n",
       "                (window.URL || window.webkitURL).revokeObjectURL(\n",
       "                    fig.imageObj.src\n",
       "                );\n",
       "            }\n",
       "\n",
       "            fig.imageObj.src = (window.URL || window.webkitURL).createObjectURL(\n",
       "                evt.data\n",
       "            );\n",
       "            fig.updated_canvas_event();\n",
       "            fig.waiting = false;\n",
       "            return;\n",
       "        } else if (\n",
       "            typeof evt.data === 'string' &&\n",
       "            evt.data.slice(0, 21) === 'data:image/png;base64'\n",
       "        ) {\n",
       "            fig.imageObj.src = evt.data;\n",
       "            fig.updated_canvas_event();\n",
       "            fig.waiting = false;\n",
       "            return;\n",
       "        }\n",
       "\n",
       "        var msg = JSON.parse(evt.data);\n",
       "        var msg_type = msg['type'];\n",
       "\n",
       "        // Call the  \"handle_{type}\" callback, which takes\n",
       "        // the figure and JSON message as its only arguments.\n",
       "        try {\n",
       "            var callback = fig['handle_' + msg_type];\n",
       "        } catch (e) {\n",
       "            console.log(\n",
       "                \"No handler for the '\" + msg_type + \"' message type: \",\n",
       "                msg\n",
       "            );\n",
       "            return;\n",
       "        }\n",
       "\n",
       "        if (callback) {\n",
       "            try {\n",
       "                // console.log(\"Handling '\" + msg_type + \"' message: \", msg);\n",
       "                callback(fig, msg);\n",
       "            } catch (e) {\n",
       "                console.log(\n",
       "                    \"Exception inside the 'handler_\" + msg_type + \"' callback:\",\n",
       "                    e,\n",
       "                    e.stack,\n",
       "                    msg\n",
       "                );\n",
       "            }\n",
       "        }\n",
       "    };\n",
       "};\n",
       "\n",
       "// from http://stackoverflow.com/questions/1114465/getting-mouse-location-in-canvas\n",
       "mpl.findpos = function (e) {\n",
       "    //this section is from http://www.quirksmode.org/js/events_properties.html\n",
       "    var targ;\n",
       "    if (!e) {\n",
       "        e = window.event;\n",
       "    }\n",
       "    if (e.target) {\n",
       "        targ = e.target;\n",
       "    } else if (e.srcElement) {\n",
       "        targ = e.srcElement;\n",
       "    }\n",
       "    if (targ.nodeType === 3) {\n",
       "        // defeat Safari bug\n",
       "        targ = targ.parentNode;\n",
       "    }\n",
       "\n",
       "    // pageX,Y are the mouse positions relative to the document\n",
       "    var boundingRect = targ.getBoundingClientRect();\n",
       "    var x = e.pageX - (boundingRect.left + document.body.scrollLeft);\n",
       "    var y = e.pageY - (boundingRect.top + document.body.scrollTop);\n",
       "\n",
       "    return { x: x, y: y };\n",
       "};\n",
       "\n",
       "/*\n",
       " * return a copy of an object with only non-object keys\n",
       " * we need this to avoid circular references\n",
       " * http://stackoverflow.com/a/24161582/3208463\n",
       " */\n",
       "function simpleKeys(original) {\n",
       "    return Object.keys(original).reduce(function (obj, key) {\n",
       "        if (typeof original[key] !== 'object') {\n",
       "            obj[key] = original[key];\n",
       "        }\n",
       "        return obj;\n",
       "    }, {});\n",
       "}\n",
       "\n",
       "mpl.figure.prototype.mouse_event = function (event, name) {\n",
       "    var canvas_pos = mpl.findpos(event);\n",
       "\n",
       "    if (name === 'button_press') {\n",
       "        this.canvas.focus();\n",
       "        this.canvas_div.focus();\n",
       "    }\n",
       "\n",
       "    var x = canvas_pos.x * this.ratio;\n",
       "    var y = canvas_pos.y * this.ratio;\n",
       "\n",
       "    this.send_message(name, {\n",
       "        x: x,\n",
       "        y: y,\n",
       "        button: event.button,\n",
       "        step: event.step,\n",
       "        guiEvent: simpleKeys(event),\n",
       "    });\n",
       "\n",
       "    /* This prevents the web browser from automatically changing to\n",
       "     * the text insertion cursor when the button is pressed.  We want\n",
       "     * to control all of the cursor setting manually through the\n",
       "     * 'cursor' event from matplotlib */\n",
       "    event.preventDefault();\n",
       "    return false;\n",
       "};\n",
       "\n",
       "mpl.figure.prototype._key_event_extra = function (_event, _name) {\n",
       "    // Handle any extra behaviour associated with a key event\n",
       "};\n",
       "\n",
       "mpl.figure.prototype.key_event = function (event, name) {\n",
       "    // Prevent repeat events\n",
       "    if (name === 'key_press') {\n",
       "        if (event.which === this._key) {\n",
       "            return;\n",
       "        } else {\n",
       "            this._key = event.which;\n",
       "        }\n",
       "    }\n",
       "    if (name === 'key_release') {\n",
       "        this._key = null;\n",
       "    }\n",
       "\n",
       "    var value = '';\n",
       "    if (event.ctrlKey && event.which !== 17) {\n",
       "        value += 'ctrl+';\n",
       "    }\n",
       "    if (event.altKey && event.which !== 18) {\n",
       "        value += 'alt+';\n",
       "    }\n",
       "    if (event.shiftKey && event.which !== 16) {\n",
       "        value += 'shift+';\n",
       "    }\n",
       "\n",
       "    value += 'k';\n",
       "    value += event.which.toString();\n",
       "\n",
       "    this._key_event_extra(event, name);\n",
       "\n",
       "    this.send_message(name, { key: value, guiEvent: simpleKeys(event) });\n",
       "    return false;\n",
       "};\n",
       "\n",
       "mpl.figure.prototype.toolbar_button_onclick = function (name) {\n",
       "    if (name === 'download') {\n",
       "        this.handle_save(this, null);\n",
       "    } else {\n",
       "        this.send_message('toolbar_button', { name: name });\n",
       "    }\n",
       "};\n",
       "\n",
       "mpl.figure.prototype.toolbar_button_onmouseover = function (tooltip) {\n",
       "    this.message.textContent = tooltip;\n",
       "};\n",
       "\n",
       "///////////////// REMAINING CONTENT GENERATED BY embed_js.py /////////////////\n",
       "// prettier-ignore\n",
       "var _JSXTOOLS_RESIZE_OBSERVER=function(A){var t,i=new WeakMap,n=new WeakMap,a=new WeakMap,r=new WeakMap,o=new Set;function s(e){if(!(this instanceof s))throw new TypeError(\"Constructor requires 'new' operator\");i.set(this,e)}function h(){throw new TypeError(\"Function is not a constructor\")}function c(e,t,i,n){e=0 in arguments?Number(arguments[0]):0,t=1 in arguments?Number(arguments[1]):0,i=2 in arguments?Number(arguments[2]):0,n=3 in arguments?Number(arguments[3]):0,this.right=(this.x=this.left=e)+(this.width=i),this.bottom=(this.y=this.top=t)+(this.height=n),Object.freeze(this)}function d(){t=requestAnimationFrame(d);var s=new WeakMap,p=new Set;o.forEach((function(t){r.get(t).forEach((function(i){var r=t instanceof window.SVGElement,o=a.get(t),d=r?0:parseFloat(o.paddingTop),f=r?0:parseFloat(o.paddingRight),l=r?0:parseFloat(o.paddingBottom),u=r?0:parseFloat(o.paddingLeft),g=r?0:parseFloat(o.borderTopWidth),m=r?0:parseFloat(o.borderRightWidth),w=r?0:parseFloat(o.borderBottomWidth),b=u+f,F=d+l,v=(r?0:parseFloat(o.borderLeftWidth))+m,W=g+w,y=r?0:t.offsetHeight-W-t.clientHeight,E=r?0:t.offsetWidth-v-t.clientWidth,R=b+v,z=F+W,M=r?t.width:parseFloat(o.width)-R-E,O=r?t.height:parseFloat(o.height)-z-y;if(n.has(t)){var k=n.get(t);if(k[0]===M&&k[1]===O)return}n.set(t,[M,O]);var S=Object.create(h.prototype);S.target=t,S.contentRect=new c(u,d,M,O),s.has(i)||(s.set(i,[]),p.add(i)),s.get(i).push(S)}))})),p.forEach((function(e){i.get(e).call(e,s.get(e),e)}))}return s.prototype.observe=function(i){if(i instanceof window.Element){r.has(i)||(r.set(i,new Set),o.add(i),a.set(i,window.getComputedStyle(i)));var n=r.get(i);n.has(this)||n.add(this),cancelAnimationFrame(t),t=requestAnimationFrame(d)}},s.prototype.unobserve=function(i){if(i instanceof window.Element&&r.has(i)){var n=r.get(i);n.has(this)&&(n.delete(this),n.size||(r.delete(i),o.delete(i))),n.size||r.delete(i),o.size||cancelAnimationFrame(t)}},A.DOMRectReadOnly=c,A.ResizeObserver=s,A.ResizeObserverEntry=h,A}; // eslint-disable-line\n",
       "mpl.toolbar_items = [[\"Home\", \"Reset original view\", \"fa fa-home icon-home\", \"home\"], [\"Back\", \"Back to previous view\", \"fa fa-arrow-left icon-arrow-left\", \"back\"], [\"Forward\", \"Forward to next view\", \"fa fa-arrow-right icon-arrow-right\", \"forward\"], [\"\", \"\", \"\", \"\"], [\"Pan\", \"Left button pans, Right button zooms\\nx/y fixes axis, CTRL fixes aspect\", \"fa fa-arrows icon-move\", \"pan\"], [\"Zoom\", \"Zoom to rectangle\\nx/y fixes axis, CTRL fixes aspect\", \"fa fa-square-o icon-check-empty\", \"zoom\"], [\"\", \"\", \"\", \"\"], [\"Download\", \"Download plot\", \"fa fa-floppy-o icon-save\", \"download\"]];\n",
       "\n",
       "mpl.extensions = [\"eps\", \"jpeg\", \"pdf\", \"png\", \"ps\", \"raw\", \"svg\", \"tif\"];\n",
       "\n",
       "mpl.default_extension = \"png\";/* global mpl */\n",
       "\n",
       "var comm_websocket_adapter = function (comm) {\n",
       "    // Create a \"websocket\"-like object which calls the given IPython comm\n",
       "    // object with the appropriate methods. Currently this is a non binary\n",
       "    // socket, so there is still some room for performance tuning.\n",
       "    var ws = {};\n",
       "\n",
       "    ws.close = function () {\n",
       "        comm.close();\n",
       "    };\n",
       "    ws.send = function (m) {\n",
       "        //console.log('sending', m);\n",
       "        comm.send(m);\n",
       "    };\n",
       "    // Register the callback with on_msg.\n",
       "    comm.on_msg(function (msg) {\n",
       "        //console.log('receiving', msg['content']['data'], msg);\n",
       "        // Pass the mpl event to the overridden (by mpl) onmessage function.\n",
       "        ws.onmessage(msg['content']['data']);\n",
       "    });\n",
       "    return ws;\n",
       "};\n",
       "\n",
       "mpl.mpl_figure_comm = function (comm, msg) {\n",
       "    // This is the function which gets called when the mpl process\n",
       "    // starts-up an IPython Comm through the \"matplotlib\" channel.\n",
       "\n",
       "    var id = msg.content.data.id;\n",
       "    // Get hold of the div created by the display call when the Comm\n",
       "    // socket was opened in Python.\n",
       "    var element = document.getElementById(id);\n",
       "    var ws_proxy = comm_websocket_adapter(comm);\n",
       "\n",
       "    function ondownload(figure, _format) {\n",
       "        window.open(figure.canvas.toDataURL());\n",
       "    }\n",
       "\n",
       "    var fig = new mpl.figure(id, ws_proxy, ondownload, element);\n",
       "\n",
       "    // Call onopen now - mpl needs it, as it is assuming we've passed it a real\n",
       "    // web socket which is closed, not our websocket->open comm proxy.\n",
       "    ws_proxy.onopen();\n",
       "\n",
       "    fig.parent_element = element;\n",
       "    fig.cell_info = mpl.find_output_cell(\"<div id='\" + id + \"'></div>\");\n",
       "    if (!fig.cell_info) {\n",
       "        console.error('Failed to find cell for figure', id, fig);\n",
       "        return;\n",
       "    }\n",
       "    fig.cell_info[0].output_area.element.on(\n",
       "        'cleared',\n",
       "        { fig: fig },\n",
       "        fig._remove_fig_handler\n",
       "    );\n",
       "};\n",
       "\n",
       "mpl.figure.prototype.handle_close = function (fig, msg) {\n",
       "    var width = fig.canvas.width / fig.ratio;\n",
       "    fig.cell_info[0].output_area.element.off(\n",
       "        'cleared',\n",
       "        fig._remove_fig_handler\n",
       "    );\n",
       "    fig.resizeObserverInstance.unobserve(fig.canvas_div);\n",
       "\n",
       "    // Update the output cell to use the data from the current canvas.\n",
       "    fig.push_to_output();\n",
       "    var dataURL = fig.canvas.toDataURL();\n",
       "    // Re-enable the keyboard manager in IPython - without this line, in FF,\n",
       "    // the notebook keyboard shortcuts fail.\n",
       "    IPython.keyboard_manager.enable();\n",
       "    fig.parent_element.innerHTML =\n",
       "        '<img src=\"' + dataURL + '\" width=\"' + width + '\">';\n",
       "    fig.close_ws(fig, msg);\n",
       "};\n",
       "\n",
       "mpl.figure.prototype.close_ws = function (fig, msg) {\n",
       "    fig.send_message('closing', msg);\n",
       "    // fig.ws.close()\n",
       "};\n",
       "\n",
       "mpl.figure.prototype.push_to_output = function (_remove_interactive) {\n",
       "    // Turn the data on the canvas into data in the output cell.\n",
       "    var width = this.canvas.width / this.ratio;\n",
       "    var dataURL = this.canvas.toDataURL();\n",
       "    this.cell_info[1]['text/html'] =\n",
       "        '<img src=\"' + dataURL + '\" width=\"' + width + '\">';\n",
       "};\n",
       "\n",
       "mpl.figure.prototype.updated_canvas_event = function () {\n",
       "    // Tell IPython that the notebook contents must change.\n",
       "    IPython.notebook.set_dirty(true);\n",
       "    this.send_message('ack', {});\n",
       "    var fig = this;\n",
       "    // Wait a second, then push the new image to the DOM so\n",
       "    // that it is saved nicely (might be nice to debounce this).\n",
       "    setTimeout(function () {\n",
       "        fig.push_to_output();\n",
       "    }, 1000);\n",
       "};\n",
       "\n",
       "mpl.figure.prototype._init_toolbar = function () {\n",
       "    var fig = this;\n",
       "\n",
       "    var toolbar = document.createElement('div');\n",
       "    toolbar.classList = 'btn-toolbar';\n",
       "    this.root.appendChild(toolbar);\n",
       "\n",
       "    function on_click_closure(name) {\n",
       "        return function (_event) {\n",
       "            return fig.toolbar_button_onclick(name);\n",
       "        };\n",
       "    }\n",
       "\n",
       "    function on_mouseover_closure(tooltip) {\n",
       "        return function (event) {\n",
       "            if (!event.currentTarget.disabled) {\n",
       "                return fig.toolbar_button_onmouseover(tooltip);\n",
       "            }\n",
       "        };\n",
       "    }\n",
       "\n",
       "    fig.buttons = {};\n",
       "    var buttonGroup = document.createElement('div');\n",
       "    buttonGroup.classList = 'btn-group';\n",
       "    var button;\n",
       "    for (var toolbar_ind in mpl.toolbar_items) {\n",
       "        var name = mpl.toolbar_items[toolbar_ind][0];\n",
       "        var tooltip = mpl.toolbar_items[toolbar_ind][1];\n",
       "        var image = mpl.toolbar_items[toolbar_ind][2];\n",
       "        var method_name = mpl.toolbar_items[toolbar_ind][3];\n",
       "\n",
       "        if (!name) {\n",
       "            /* Instead of a spacer, we start a new button group. */\n",
       "            if (buttonGroup.hasChildNodes()) {\n",
       "                toolbar.appendChild(buttonGroup);\n",
       "            }\n",
       "            buttonGroup = document.createElement('div');\n",
       "            buttonGroup.classList = 'btn-group';\n",
       "            continue;\n",
       "        }\n",
       "\n",
       "        button = fig.buttons[name] = document.createElement('button');\n",
       "        button.classList = 'btn btn-default';\n",
       "        button.href = '#';\n",
       "        button.title = name;\n",
       "        button.innerHTML = '<i class=\"fa ' + image + ' fa-lg\"></i>';\n",
       "        button.addEventListener('click', on_click_closure(method_name));\n",
       "        button.addEventListener('mouseover', on_mouseover_closure(tooltip));\n",
       "        buttonGroup.appendChild(button);\n",
       "    }\n",
       "\n",
       "    if (buttonGroup.hasChildNodes()) {\n",
       "        toolbar.appendChild(buttonGroup);\n",
       "    }\n",
       "\n",
       "    // Add the status bar.\n",
       "    var status_bar = document.createElement('span');\n",
       "    status_bar.classList = 'mpl-message pull-right';\n",
       "    toolbar.appendChild(status_bar);\n",
       "    this.message = status_bar;\n",
       "\n",
       "    // Add the close button to the window.\n",
       "    var buttongrp = document.createElement('div');\n",
       "    buttongrp.classList = 'btn-group inline pull-right';\n",
       "    button = document.createElement('button');\n",
       "    button.classList = 'btn btn-mini btn-primary';\n",
       "    button.href = '#';\n",
       "    button.title = 'Stop Interaction';\n",
       "    button.innerHTML = '<i class=\"fa fa-power-off icon-remove icon-large\"></i>';\n",
       "    button.addEventListener('click', function (_evt) {\n",
       "        fig.handle_close(fig, {});\n",
       "    });\n",
       "    button.addEventListener(\n",
       "        'mouseover',\n",
       "        on_mouseover_closure('Stop Interaction')\n",
       "    );\n",
       "    buttongrp.appendChild(button);\n",
       "    var titlebar = this.root.querySelector('.ui-dialog-titlebar');\n",
       "    titlebar.insertBefore(buttongrp, titlebar.firstChild);\n",
       "};\n",
       "\n",
       "mpl.figure.prototype._remove_fig_handler = function (event) {\n",
       "    var fig = event.data.fig;\n",
       "    if (event.target !== this) {\n",
       "        // Ignore bubbled events from children.\n",
       "        return;\n",
       "    }\n",
       "    fig.close_ws(fig, {});\n",
       "};\n",
       "\n",
       "mpl.figure.prototype._root_extra_style = function (el) {\n",
       "    el.style.boxSizing = 'content-box'; // override notebook setting of border-box.\n",
       "};\n",
       "\n",
       "mpl.figure.prototype._canvas_extra_style = function (el) {\n",
       "    // this is important to make the div 'focusable\n",
       "    el.setAttribute('tabindex', 0);\n",
       "    // reach out to IPython and tell the keyboard manager to turn it's self\n",
       "    // off when our div gets focus\n",
       "\n",
       "    // location in version 3\n",
       "    if (IPython.notebook.keyboard_manager) {\n",
       "        IPython.notebook.keyboard_manager.register_events(el);\n",
       "    } else {\n",
       "        // location in version 2\n",
       "        IPython.keyboard_manager.register_events(el);\n",
       "    }\n",
       "};\n",
       "\n",
       "mpl.figure.prototype._key_event_extra = function (event, _name) {\n",
       "    var manager = IPython.notebook.keyboard_manager;\n",
       "    if (!manager) {\n",
       "        manager = IPython.keyboard_manager;\n",
       "    }\n",
       "\n",
       "    // Check for shift+enter\n",
       "    if (event.shiftKey && event.which === 13) {\n",
       "        this.canvas_div.blur();\n",
       "        // select the cell after this one\n",
       "        var index = IPython.notebook.find_cell_index(this.cell_info[0]);\n",
       "        IPython.notebook.select(index + 1);\n",
       "    }\n",
       "};\n",
       "\n",
       "mpl.figure.prototype.handle_save = function (fig, _msg) {\n",
       "    fig.ondownload(fig, null);\n",
       "};\n",
       "\n",
       "mpl.find_output_cell = function (html_output) {\n",
       "    // Return the cell and output element which can be found *uniquely* in the notebook.\n",
       "    // Note - this is a bit hacky, but it is done because the \"notebook_saving.Notebook\"\n",
       "    // IPython event is triggered only after the cells have been serialised, which for\n",
       "    // our purposes (turning an active figure into a static one), is too late.\n",
       "    var cells = IPython.notebook.get_cells();\n",
       "    var ncells = cells.length;\n",
       "    for (var i = 0; i < ncells; i++) {\n",
       "        var cell = cells[i];\n",
       "        if (cell.cell_type === 'code') {\n",
       "            for (var j = 0; j < cell.output_area.outputs.length; j++) {\n",
       "                var data = cell.output_area.outputs[j];\n",
       "                if (data.data) {\n",
       "                    // IPython >= 3 moved mimebundle to data attribute of output\n",
       "                    data = data.data;\n",
       "                }\n",
       "                if (data['text/html'] === html_output) {\n",
       "                    return [cell, data, j];\n",
       "                }\n",
       "            }\n",
       "        }\n",
       "    }\n",
       "};\n",
       "\n",
       "// Register the function which deals with the matplotlib target/channel.\n",
       "// The kernel may be null if the page has been refreshed.\n",
       "if (IPython.notebook.kernel !== null) {\n",
       "    IPython.notebook.kernel.comm_manager.register_target(\n",
       "        'matplotlib',\n",
       "        mpl.mpl_figure_comm\n",
       "    );\n",
       "}\n"
      ],
      "text/plain": [
       "<IPython.core.display.Javascript object>"
      ]
     },
     "metadata": {},
     "output_type": "display_data"
    },
    {
     "data": {
      "text/html": [
       "<img src=\"data:image/png;base64,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\" width=\"600\">"
      ],
      "text/plain": [
       "<IPython.core.display.HTML object>"
      ]
     },
     "metadata": {},
     "output_type": "display_data"
    },
    {
     "data": {
      "text/plain": [
       "[Text(0.5, 0, 'Component'),\n",
       " Text(0, 0.5, 'Percent of Explained variance'),\n",
       " Text(0.5, 1.0, 'Scree Plot'),\n",
       " (0.0, 1.0)]"
      ]
     },
     "execution_count": 132,
     "metadata": {},
     "output_type": "execute_result"
    }
   ],
   "source": [
    "\n",
    "fig, ax = plt.subplots(figsize=(6,6))\n",
    "ax.plot(pca.explained_variance_ratio_)\n",
    "\n",
    "ax.set(xlabel=\"Component\", ylabel=\"Percent of Explained variance\", title=\"Scree Plot\", ylim=(0,1))"
   ]
  },
  {
   "cell_type": "code",
   "execution_count": 133,
   "metadata": {},
   "outputs": [],
   "source": [
    "from sklearn.feature_selection import RFE"
   ]
  },
  {
   "cell_type": "code",
   "execution_count": 134,
   "metadata": {},
   "outputs": [],
   "source": [
    "rfc = RandomForestClassifier(random_state=0)"
   ]
  },
  {
   "cell_type": "code",
   "execution_count": 135,
   "metadata": {},
   "outputs": [],
   "source": [
    "rfe = RFE(rfc)"
   ]
  },
  {
   "cell_type": "code",
   "execution_count": 136,
   "metadata": {},
   "outputs": [
    {
     "data": {
      "text/plain": [
       "RFE(estimator=RandomForestClassifier(random_state=0))"
      ]
     },
     "execution_count": 136,
     "metadata": {},
     "output_type": "execute_result"
    }
   ],
   "source": [
    "rfe.fit(X, y)"
   ]
  },
  {
   "cell_type": "code",
   "execution_count": 137,
   "metadata": {},
   "outputs": [
    {
     "data": {
      "text/plain": [
       "array([ 1,  1, 17, 27, 16, 20,  1, 30, 12,  1, 29,  1,  6,  1,  1, 18, 24,\n",
       "       19, 28, 26,  1,  1,  9, 14, 15, 10,  5, 11, 21, 25, 23,  7, 31,  1,\n",
       "        1,  1,  1,  1,  2,  1, 13,  1,  1,  1,  1,  1,  1,  3,  1,  1,  8,\n",
       "       22,  4,  1,  1,  1,  1,  1,  1])"
      ]
     },
     "execution_count": 137,
     "metadata": {},
     "output_type": "execute_result"
    }
   ],
   "source": [
    "rfe.ranking_"
   ]
  },
  {
   "cell_type": "code",
   "execution_count": 138,
   "metadata": {},
   "outputs": [
    {
     "data": {
      "text/plain": [
       "29"
      ]
     },
     "execution_count": 138,
     "metadata": {},
     "output_type": "execute_result"
    }
   ],
   "source": [
    "rfe.estimator_.n_features_"
   ]
  },
  {
   "cell_type": "code",
   "execution_count": 139,
   "metadata": {},
   "outputs": [
    {
     "data": {
      "text/plain": [
       "array([ True,  True, False, False, False, False,  True, False, False,\n",
       "        True, False,  True, False,  True,  True, False, False, False,\n",
       "       False, False,  True,  True, False, False, False, False, False,\n",
       "       False, False, False, False, False, False,  True,  True,  True,\n",
       "        True,  True, False,  True, False,  True,  True,  True,  True,\n",
       "        True,  True, False,  True,  True, False, False, False,  True,\n",
       "        True,  True,  True,  True,  True])"
      ]
     },
     "execution_count": 139,
     "metadata": {},
     "output_type": "execute_result"
    }
   ],
   "source": [
    "rfe.support_"
   ]
  },
  {
   "cell_type": "code",
   "execution_count": 140,
   "metadata": {},
   "outputs": [],
   "source": [
    "rfe_cols = X.columns[rfe.support_]"
   ]
  },
  {
   "cell_type": "code",
   "execution_count": 141,
   "metadata": {},
   "outputs": [
    {
     "data": {
      "text/plain": [
       "Index(['city_development_index', 'training_hours', 'city_city_21',\n",
       "       'gender_Male', 'relevent_experience_No relevent experience',\n",
       "       'enrolled_university_no_enrollment', 'education_level_Masters',\n",
       "       'major_discipline_STEM', 'experience_10', 'experience_3',\n",
       "       'experience_4', 'experience_5', 'experience_6', 'experience_7',\n",
       "       'experience_9', 'experience_>20', 'company_size_100-500',\n",
       "       'company_size_1000-4999', 'company_size_10000+', 'company_size_50-99',\n",
       "       'company_size_500-999', 'company_size_<10',\n",
       "       'company_type_Funded Startup', 'company_type_Pvt Ltd', 'last_new_job_2',\n",
       "       'last_new_job_3', 'last_new_job_4', 'last_new_job_>4',\n",
       "       'last_new_job_never'],\n",
       "      dtype='object')"
      ]
     },
     "execution_count": 141,
     "metadata": {},
     "output_type": "execute_result"
    }
   ],
   "source": [
    "rfe_cols"
   ]
  },
  {
   "cell_type": "code",
   "execution_count": 142,
   "metadata": {},
   "outputs": [],
   "source": [
    "X = X.loc[:, rfe_cols]"
   ]
  },
  {
   "cell_type": "code",
   "execution_count": 145,
   "metadata": {},
   "outputs": [
    {
     "data": {
      "text/plain": [
       "10"
      ]
     },
     "execution_count": 145,
     "metadata": {},
     "output_type": "execute_result"
    }
   ],
   "source": [
    "skf = StratifiedKFold(n_splits=folds)\n",
    "skf.get_n_splits(X, y)"
   ]
  },
  {
   "cell_type": "code",
   "execution_count": 157,
   "metadata": {},
   "outputs": [
    {
     "name": "stdout",
     "output_type": "stream",
     "text": [
      "fold 1 0.7238839095177125\n",
      "Accuracy: 0.847098, \n",
      "Recall: 0.277027 \n",
      "Precision: 0.577465\n",
      "fold 2 0.728715739894334\n",
      "Accuracy: 0.849330, \n",
      "Recall: 0.310811 \n",
      "Precision: 0.582278\n",
      "fold 3 0.6420976282004788\n",
      "Accuracy: 0.819196, \n",
      "Recall: 0.241611 \n",
      "Precision: 0.423529\n",
      "fold 4 0.6970922882427306\n",
      "Accuracy: 0.837054, \n",
      "Recall: 0.362416 \n",
      "Precision: 0.514286\n",
      "fold 5 0.6904173478828436\n",
      "Accuracy: 0.834821, \n",
      "Recall: 0.335570 \n",
      "Precision: 0.505051\n",
      "fold 6 0.6558600108518721\n",
      "Accuracy: 0.822346, \n",
      "Recall: 0.290541 \n",
      "Precision: 0.443299\n",
      "fold 7 0.7047839137248653\n",
      "Accuracy: 0.841341, \n",
      "Recall: 0.337838 \n",
      "Precision: 0.531915\n",
      "fold 8 0.7025525600418984\n",
      "Accuracy: 0.840223, \n",
      "Recall: 0.358108 \n",
      "Precision: 0.524752\n",
      "fold 9 0.6855638166047087\n",
      "Accuracy: 0.834637, \n",
      "Recall: 0.297297 \n",
      "Precision: 0.500000\n",
      "fold 10 0.711381539716913\n",
      "Accuracy: 0.843575, \n",
      "Recall: 0.290541 \n",
      "Precision: 0.551282\n",
      "avg roc_auc score is 0.6942348754678357\n"
     ]
    }
   ],
   "source": [
    "roc_auc_avg = 0\n",
    "k = 0\n",
    "for train_index, test_index in skf.split(X, y):\n",
    "    k+=1\n",
    "    #print(\"TRAIN:\", train_index, \"TEST:\", test_index)\n",
    "    X_train, X_test = X.iloc[train_index, :], X.iloc[test_index, :]\n",
    "    y_train, y_test = y[train_index], y[test_index]\n",
    "    \n",
    "    rfc = RandomForestClassifier()\n",
    "    rfc.fit(X_train, y_train)\n",
    "    \n",
    "    y_pred = rfc.predict(X_test)\n",
    "\n",
    "    roc_auc_avg += roc_auc_score(y_pred, y_test)\n",
    "        \n",
    "    print(\"fold \" + str(k) + \" \" + str(roc_auc_score(y_pred, y_test)))\n",
    "    print('Accuracy: %f, \\nRecall: %f \\nPrecision: %f'\n",
    "      % (accuracy_score(y_test, y_pred), recall_score(y_test, y_pred), precision_score(y_test, y_pred)))\n",
    "\n",
    "    \n",
    "print(\"avg roc_auc score is \" + str(roc_auc_avg/k))"
   ]
  },
  {
   "cell_type": "code",
   "execution_count": 156,
   "metadata": {},
   "outputs": [
    {
     "name": "stdout",
     "output_type": "stream",
     "text": [
      "fold 1 0.7627806975633062\n",
      "Accuracy: 0.862723, \n",
      "Recall: 0.391892 \n",
      "Precision: 0.637363\n",
      "fold 2 0.7540391508133444\n",
      "Accuracy: 0.859375, \n",
      "Recall: 0.378378 \n",
      "Precision: 0.622222\n",
      "fold 3 0.7277083333333334\n",
      "Accuracy: 0.849330, \n",
      "Recall: 0.369128 \n",
      "Precision: 0.572917\n",
      "fold 4 0.760199041833358\n",
      "Accuracy: 0.862723, \n",
      "Recall: 0.429530 \n",
      "Precision: 0.627451\n",
      "fold 5 0.7311426116838489\n",
      "Accuracy: 0.851562, \n",
      "Recall: 0.456376 \n",
      "Precision: 0.566667\n",
      "fold 6 0.7343924191750278\n",
      "Accuracy: 0.853631, \n",
      "Recall: 0.445946 \n",
      "Precision: 0.573913\n",
      "fold 7 0.742588303416329\n",
      "Accuracy: 0.856983, \n",
      "Recall: 0.439189 \n",
      "Precision: 0.590909\n",
      "fold 8 0.732602769208695\n",
      "Accuracy: 0.852514, \n",
      "Recall: 0.412162 \n",
      "Precision: 0.575472\n",
      "fold 9 0.7136820465966195\n",
      "Accuracy: 0.844693, \n",
      "Recall: 0.364865 \n",
      "Precision: 0.545455\n",
      "fold 10 0.7351510982494425\n",
      "Accuracy: 0.853631, \n",
      "Recall: 0.418919 \n",
      "Precision: 0.579439\n",
      "avg roc_auc score is 0.7394286471873304\n"
     ]
    }
   ],
   "source": [
    "roc_auc_avg = 0\n",
    "k = 0\n",
    "for train_index, test_index in skf.split(X, y):\n",
    "    k+=1\n",
    "    #print(\"TRAIN:\", train_index, \"TEST:\", test_index)\n",
    "    X_train, X_test = X.iloc[train_index, :], X.iloc[test_index, :]\n",
    "    y_train, y_test = y[train_index], y[test_index]\n",
    "    \n",
    "    lg = linear_model.LogisticRegression(max_iter=3000)\n",
    "    lg.fit(X_train, y_train)\n",
    "    \n",
    "    y_pred = lg.predict(X_test)\n",
    "\n",
    "    roc_auc_avg += roc_auc_score(y_pred, y_test)\n",
    "        \n",
    "    print(\"fold \" + str(k) + \" \" + str(roc_auc_score(y_pred, y_test)))\n",
    "    print('Accuracy: %f, \\nRecall: %f \\nPrecision: %f'\n",
    "      % (accuracy_score(y_test, y_pred), recall_score(y_test, y_pred), precision_score(y_test, y_pred)))\n",
    "    \n",
    "print(\"avg roc_auc score is \" + str(roc_auc_avg/k))"
   ]
  },
  {
   "cell_type": "raw",
   "metadata": {},
   "source": [
    "we can see that it was not a good model or approach"
   ]
  },
  {
   "cell_type": "code",
   "execution_count": null,
   "metadata": {},
   "outputs": [],
   "source": []
  }
 ],
 "metadata": {
  "kernelspec": {
   "display_name": "Python 3",
   "language": "python",
   "name": "python3"
  },
  "language_info": {
   "codemirror_mode": {
    "name": "ipython",
    "version": 3
   },
   "file_extension": ".py",
   "mimetype": "text/x-python",
   "name": "python",
   "nbconvert_exporter": "python",
   "pygments_lexer": "ipython3",
   "version": "3.8.6"
  }
 },
 "nbformat": 4,
 "nbformat_minor": 4
}
